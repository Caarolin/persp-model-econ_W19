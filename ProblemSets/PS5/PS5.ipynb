{
 "cells": [
  {
   "cell_type": "markdown",
   "metadata": {},
   "source": [
    "# Problem Set 5\n",
    "## [Ruolin Fang]"
   ]
  },
  {
   "cell_type": "code",
   "execution_count": 1,
   "metadata": {},
   "outputs": [],
   "source": [
    "import pandas as pd\n",
    "import matplotlib.pyplot as plt\n",
    "import numpy as np\n",
    "import scipy.integrate as intgr\n",
    "import scipy.stats as sts\n",
    "import scipy.optimize as opt\n",
    "import numpy.linalg as lin\n",
    "import warnings\n",
    "warnings.filterwarnings('ignore')"
   ]
  },
  {
   "cell_type": "markdown",
   "metadata": {},
   "source": [
    "## Question 1\n",
    "### (a)"
   ]
  },
  {
   "cell_type": "code",
   "execution_count": 2,
   "metadata": {},
   "outputs": [
    {
     "data": {
      "text/plain": [
       "Text(0,0.5,'Percentage')"
      ]
     },
     "execution_count": 2,
     "metadata": {},
     "output_type": "execute_result"
    },
    {
     "data": {
      "image/png": "[encoded data removed]",
      "text/plain": [
       "<matplotlib.figure.Figure at 0x111880400>"
      ]
     },
     "metadata": {},
     "output_type": "display_data"
    }
   ],
   "source": [
    "inc = pd.read_csv('data/incomes.txt', names = ['Income'])\n",
    "plt.hist(inc['Income'], 30, normed=True, edgecolor='k')\n",
    "plt.title('Annual Income of Uchicago MACSS 2018-2020 graduates')\n",
    "plt.xlabel('Annual Income')\n",
    "plt.ylabel('Percentage')"
   ]
  },
  {
   "cell_type": "markdown",
   "metadata": {},
   "source": [
    "### (b)"
   ]
  },
  {
   "cell_type": "code",
   "execution_count": 3,
   "metadata": {},
   "outputs": [],
   "source": [
    "# Define function that generates values of a lognormal pdf\n",
    "def trunc_lognorm_pdf(xvals, mu, sigma, cut_lb, cut_ub):\n",
    "    \n",
    "    if cut_ub == 'None' and cut_lb == 'None':\n",
    "        prob_notcut = 1.0\n",
    "    elif cut_ub == 'None' and cut_lb != 'None':\n",
    "        prob_notcut = 1.0 - sts.lognorm.cdf(cut_lb, sigma, scale=np.exp(mu))\n",
    "    elif cut_ub != 'None' and cut_lb == 'None':\n",
    "        prob_notcut = sts.lognorm.cdf(cut_ub, sigma, scale=np.exp(mu))\n",
    "    elif cut_ub != 'None' and cut_lb != 'None':\n",
    "        prob_notcut = (sts.lognorm.cdf(cut_ub, sigma, scale=np.exp(mu)) -\n",
    "                       sts.lognorm.cdf(cut_lb, sigma, scale=np.exp(mu)))\n",
    "            \n",
    "    pdf_vals    = ((1/(xvals * sigma * np.sqrt(2 * np.pi)) *\n",
    "                    np.exp( - (np.log(xvals) - mu) ** 2 / (2 * sigma ** 2))) /\n",
    "                    prob_notcut)\n",
    "    \n",
    "    return pdf_vals"
   ]
  },
  {
   "cell_type": "code",
   "execution_count": 4,
   "metadata": {},
   "outputs": [],
   "source": [
    "def data_moments(xvals):\n",
    "    mean_data = xvals.mean()\n",
    "    sd_data = xvals.std()   \n",
    "    return mean_data, sd_data\n",
    "\n",
    "\n",
    "def model_moments(mu, sigma, cut_lb, cut_ub):  \n",
    "    xfx = lambda x: x * trunc_lognorm_pdf(x, mu, sigma, cut_lb, cut_ub)\n",
    "    (mean_model, m_m_err) = intgr.quad(xfx, cut_lb, cut_ub)\n",
    "    x2fx = lambda x: ((x - mean_model) ** 2) * trunc_lognorm_pdf(x, mu, sigma, cut_lb, cut_ub) \n",
    "    (var_model, v_m_err) = intgr.quad(x2fx, cut_lb, cut_ub)    \n",
    "    sd_model = np.sqrt(var_model)\n",
    "    return mean_model, sd_model\n",
    "\n",
    "\n",
    "def err_vec(xvals, mu, sigma, cut_lb, cut_ub, simple):\n",
    "    mean_data, sd_data = data_moments(xvals)\n",
    "    moms_data = np.array([[mean_data], [sd_data]])\n",
    "    mean_model, sd_model = model_moments(mu, sigma, cut_lb, cut_ub)\n",
    "    moms_model = np.array([[mean_model], [sd_model]])\n",
    "    if simple:\n",
    "        err_vec = moms_model - moms_data\n",
    "    else:\n",
    "        err_vec = (moms_model - moms_data) / moms_data\n",
    "    \n",
    "    return err_vec\n",
    "\n",
    "\n",
    "def criterion(params, *args):\n",
    "    mu, sigma = params\n",
    "    xvals, cut_lb, cut_ub, W = args\n",
    "    err = err_vec(xvals, mu, sigma, cut_lb, cut_ub, simple=False)\n",
    "    crit_val = err.T @ W @ err\n",
    "    \n",
    "    return crit_val"
   ]
  },
  {
   "cell_type": "code",
   "execution_count": 5,
   "metadata": {},
   "outputs": [
    {
     "name": "stdout",
     "output_type": "stream",
     "text": [
      "mu_GMM1= 11.33353348254703  sig_GMM1= 0.2138619143524033\n"
     ]
    }
   ],
   "source": [
    "mu_init = 11.0\n",
    "sig_init = 0.5\n",
    "params_init = np.array([mu_init, sig_init])\n",
    "W_hat = np.eye(2)\n",
    "gmm_args = (inc['Income'], 0.0, 150000.0, W_hat)\n",
    "results = opt.minimize(criterion, params_init, args=(gmm_args), tol=1e-14,\n",
    "                       method='L-BFGS-B', bounds=((None, None), (1e-10, None)))\n",
    "mu_GMM1, sig_GMM1 = results.x\n",
    "print('mu_GMM1=', mu_GMM1, ' sig_GMM1=', sig_GMM1)"
   ]
  },
  {
   "cell_type": "code",
   "execution_count": 6,
   "metadata": {},
   "outputs": [
    {
     "name": "stdout",
     "output_type": "stream",
     "text": [
      "Mean of points = 85276.82360625808 , Standard deviation of points = 18037.692869371564\n",
      "Mean of model = 85276.82405894193 , Standard deviation of model = 18037.69242475689\n",
      "Error vector = [ 5.30840417e-09 -2.46491986e-08]\n",
      "Value of GMM criterion function = 6.357621470324519e-16\n"
     ]
    }
   ],
   "source": [
    "mean_data, sd_data = data_moments(inc['Income'])\n",
    "mean_model, sd_model = model_moments(mu_GMM1, sig_GMM1, 0.0, 150000.0)\n",
    "err1 = err_vec(inc['Income'], mu_GMM1, sig_GMM1, 0.0, 150000.0, False).reshape(2,)\n",
    "print('Mean of points =', mean_data, ', Standard deviation of points =', sd_data)\n",
    "print('Mean of model =', mean_model, ', Standard deviation of model =', sd_model)\n",
    "print('Error vector =', err1)\n",
    "print('Value of GMM criterion function =', results.fun[0, 0])"
   ]
  },
  {
   "cell_type": "code",
   "execution_count": 7,
   "metadata": {},
   "outputs": [
    {
     "data": {
      "image/png": "[encoded data removed]",
      "text/plain": [
       "<matplotlib.figure.Figure at 0x1a1a6a92e8>"
      ]
     },
     "metadata": {},
     "output_type": "display_data"
    }
   ],
   "source": [
    "# Plot the histogram of the data\n",
    "num_bins = 30\n",
    "count, bins, ignored = plt.hist(inc['Income'], num_bins, density=True,\n",
    "                                edgecolor='k')\n",
    "plt.title('Annual Income of Uchicago MACSS 2018-2020 graduates', fontsize=20)\n",
    "plt.xlabel(r'Annual Income')\n",
    "plt.ylabel(r'Percentage')\n",
    "plt.xlim([1, 150000])  # This gives the xmin and xmax to be plotted\"\n",
    "\n",
    "# Plot the estimated GMM PDF\n",
    "dist_pts = np.linspace(0, 150000, 1000)\n",
    "plt.plot(dist_pts, trunc_lognorm_pdf(dist_pts, mu_GMM1, sig_GMM1, 0.0, 150000),\n",
    "         linewidth=2, color='k', label='1: $\\mu_{GMM1}$,$\\sigma_{GMM1}$')\n",
    "plt.legend(loc='upper left')\n",
    "plt.show()"
   ]
  },
  {
   "cell_type": "markdown",
   "metadata": {},
   "source": [
    "### (c)"
   ]
  },
  {
   "cell_type": "code",
   "execution_count": 8,
   "metadata": {},
   "outputs": [],
   "source": [
    "def get_Err_mat2(pts, mu, sigma, cut_lb, cut_ub, simple=False):\n",
    "    R = 2\n",
    "    N = len(pts)\n",
    "    Err_mat = np.zeros((R, N))\n",
    "    mean_model, sd_model = model_moments(mu, sigma, cut_lb, cut_ub)\n",
    "    if simple:\n",
    "        Err_mat[0, :] = pts - mean_model\n",
    "        Err_mat[1, :] = ((mean_data - pts) ** 2) - sd_model\n",
    "    else:\n",
    "        Err_mat[0, :] = (pts - mean_model) / mean_model\n",
    "        Err_mat[1, :] = (((mean_data - pts) ** 2) - sd_model) / sd_model\n",
    "    \n",
    "    return Err_mat"
   ]
  },
  {
   "cell_type": "code",
   "execution_count": 9,
   "metadata": {},
   "outputs": [
    {
     "name": "stdout",
     "output_type": "stream",
     "text": [
      "VCV2:\n",
      " [[4.45167060e-02 1.67963797e+03]\n",
      " [1.67963797e+03 9.49413425e+08]]\n",
      "W_hat2:\n",
      " [[ 2.40701669e+01 -4.25833101e-05]\n",
      " [-4.25833101e-05  1.12861743e-09]]\n"
     ]
    }
   ],
   "source": [
    "Err_mat = get_Err_mat2(inc['Income'], mu_GMM1, sig_GMM1, 0.0, 150000.0, False)\n",
    "VCV2 = (1 / inc['Income'].shape[0]) * (Err_mat @ Err_mat.T)\n",
    "print('VCV2:\\n', VCV2)\n",
    "W_hat2 = lin.inv(VCV2)\n",
    "print('W_hat2:\\n', W_hat2)"
   ]
  },
  {
   "cell_type": "code",
   "execution_count": 10,
   "metadata": {},
   "outputs": [
    {
     "name": "stdout",
     "output_type": "stream",
     "text": [
      "mu_GMM2= 11.333533472755567  sig_GMM2= 0.21386191374148283\n"
     ]
    }
   ],
   "source": [
    "params_init = np.array([mu_GMM1, sig_GMM1])\n",
    "gmm_args = (inc['Income'], 0.0, 150000.0, W_hat2)\n",
    "results_2 = opt.minimize(criterion, params_init, args=(gmm_args), tol=1e-14,\n",
    "                       method='L-BFGS-B', bounds=((None, None), (1e-10, None)))\n",
    "mu_GMM2, sig_GMM2 = results_2.x\n",
    "print('mu_GMM2=', mu_GMM2, ' sig_GMM2=', sig_GMM2)"
   ]
  },
  {
   "cell_type": "code",
   "execution_count": 11,
   "metadata": {},
   "outputs": [
    {
     "name": "stdout",
     "output_type": "stream",
     "text": [
      "Mean of points = 85276.82360625808 , Standard deviation of points = 18037.692869371564\n",
      "Mean of model = 85276.82324668273 , Standard deviation of model = 18037.6922484816\n",
      "Error vector = [-4.21656596e-09 -3.44218060e-08]\n",
      "Value of GMM criterion function = 4.279414517746453e-16\n"
     ]
    }
   ],
   "source": [
    "mean_model_2, sd_model_2 = model_moments(mu_GMM2, sig_GMM2, 0.0, 150000.0)\n",
    "err2 = err_vec(inc['Income'], mu_GMM2, sig_GMM2, 0.0, 150000.0, False).reshape(2,)\n",
    "print('Mean of points =', mean_data, ', Standard deviation of points =', sd_data)\n",
    "print('Mean of model =', mean_model_2, ', Standard deviation of model =', sd_model_2)\n",
    "print('Error vector =', err2)\n",
    "print('Value of GMM criterion function =', results_2.fun[0, 0])"
   ]
  },
  {
   "cell_type": "code",
   "execution_count": 12,
   "metadata": {},
   "outputs": [
    {
     "data": {
      "image/png": "[encoded data removed]",
      "text/plain": [
       "<matplotlib.figure.Figure at 0x1a1a86f630>"
      ]
     },
     "metadata": {},
     "output_type": "display_data"
    }
   ],
   "source": [
    "# Plot the histogram of the data\n",
    "num_bins = 30\n",
    "count, bins, ignored = plt.hist(inc['Income'], num_bins, density=True,\n",
    "                                edgecolor='k')\n",
    "plt.title('Annual Income of Uchicago MACSS 2018-2020 graduates', fontsize=20)\n",
    "plt.xlabel(r'Annual Income')\n",
    "plt.ylabel(r'Percentage')\n",
    "plt.xlim([1, 150000])  # This gives the xmin and xmax to be plotted\"\n",
    "\n",
    "# Plot the estimated GMM PDF\n",
    "plt.plot(dist_pts, trunc_lognorm_pdf(dist_pts, mu_GMM1, sig_GMM1, 0.0, 150000),\n",
    "         linewidth=2, color='k', label='1: $\\mu_{GMM1}$,$\\sigma_{GMM1}$')\n",
    "\n",
    "plt.plot(dist_pts, trunc_lognorm_pdf(dist_pts, mu_GMM2, sig_GMM2, 0.0, 150000),\n",
    "         linewidth=2, color='r', label='2: $\\mu_{GMM2}$,$\\sigma_{GMM2}$')\n",
    "plt.legend(loc='upper left')\n",
    "plt.show()"
   ]
  },
  {
   "cell_type": "markdown",
   "metadata": {},
   "source": [
    "### (d)"
   ]
  },
  {
   "cell_type": "code",
   "execution_count": 13,
   "metadata": {},
   "outputs": [],
   "source": [
    "def data_moments3(xvals):\n",
    "    bpct_1_dat = xvals[xvals < 75000].shape[0] / xvals.shape[0]\n",
    "    bpct_2_dat = (xvals[(xvals >= 75000) & (xvals < 100000)].shape[0] /\n",
    "                  xvals.shape[0])\n",
    "    bpct_3_dat = xvals[xvals >= 100000].shape[0] / xvals.shape[0]\n",
    "\n",
    "    return bpct_1_dat, bpct_2_dat, bpct_3_dat\n",
    "\n",
    "\n",
    "def model_moments3(mu, sigma, cut_lb, cut_ub):\n",
    "    xfx = lambda x: trunc_lognorm_pdf(x, mu, sigma, cut_lb, cut_ub)\n",
    "    (bpct_1_mod, bp_1_err) = intgr.quad(xfx, 0.0, 75000)\n",
    "    (bpct_2_mod, bp_2_err) = intgr.quad(xfx, 75000, 100000)\n",
    "    (bpct_3_mod, bp_3_err) = intgr.quad(xfx, 100000, 150000)\n",
    "    \n",
    "    return bpct_1_mod, bpct_2_mod, bpct_3_mod\n",
    "\n",
    "\n",
    "def err_vec3(xvals, mu, sigma, cut_lb, cut_ub, simple):\n",
    "    bpct_1_dat, bpct_2_dat, bpct_3_dat = \\\n",
    "        data_moments3(xvals)\n",
    "    moms_data = np.array([[bpct_1_dat], [bpct_2_dat], [bpct_3_dat]])\n",
    "    bpct_1_mod, bpct_2_mod, bpct_3_mod = \\\n",
    "        model_moments3(mu, sigma, cut_lb, cut_ub)\n",
    "    moms_model = np.array([[bpct_1_mod], [bpct_2_mod], [bpct_3_mod]])\n",
    "    if simple:\n",
    "        err_vec = moms_model - moms_data\n",
    "    else:\n",
    "        err_vec = (moms_model - moms_data) / moms_data\n",
    "    \n",
    "    return err_vec\n",
    "\n",
    "\n",
    "def criterion3(params, *args):\n",
    "    mu, sigma = params\n",
    "    xvals, cut_lb, cut_ub, W = args\n",
    "    err = err_vec3(xvals, mu, sigma, cut_lb, cut_ub, simple=False)\n",
    "    crit_val = err.T @ W @ err \n",
    "    return crit_val"
   ]
  },
  {
   "cell_type": "code",
   "execution_count": 14,
   "metadata": {},
   "outputs": [
    {
     "name": "stdout",
     "output_type": "stream",
     "text": [
      "mu_GMM_3 = 11.336705162764707  sig_GMM_3 = 0.21151353494384176\n",
      "Error vector: [ 1.61522379e-07 -7.19526623e-08 -6.24019113e-08]\n",
      "The value of GMM criterion function: 3.5160663053913126e-14\n"
     ]
    }
   ],
   "source": [
    "W_hat_3 = np.eye(3)\n",
    "gmm_args = (inc['Income'], 0.0, 150000, W_hat_3)\n",
    "results_3 = opt.minimize(criterion3, params_init, args=(gmm_args),\n",
    "                       method='L-BFGS-B', bounds=((None, None), (1e-10, None)))\n",
    "mu_GMM_3, sig_GMM_3 = results_3.x\n",
    "print('mu_GMM_3 =', mu_GMM_3, ' sig_GMM_3 =', sig_GMM_3)\n",
    "err3 = err_vec3(inc['Income'], mu_GMM_3, sig_GMM_3, 0.0, 150000.0, False).reshape(3,)\n",
    "print('Error vector:', err3)\n",
    "print('The value of GMM criterion function:',results_3.fun[0,0])"
   ]
  },
  {
   "cell_type": "code",
   "execution_count": 15,
   "metadata": {},
   "outputs": [
    {
     "data": {
      "text/html": [
       "<div>\n",
       "<style scoped>\n",
       "    .dataframe tbody tr th:only-of-type {\n",
       "        vertical-align: middle;\n",
       "    }\n",
       "\n",
       "    .dataframe tbody tr th {\n",
       "        vertical-align: top;\n",
       "    }\n",
       "\n",
       "    .dataframe thead th {\n",
       "        text-align: right;\n",
       "    }\n",
       "</style>\n",
       "<table border=\"1\" class=\"dataframe\">\n",
       "  <thead>\n",
       "    <tr style=\"text-align: right;\">\n",
       "      <th></th>\n",
       "      <th>Data Moments</th>\n",
       "      <th>Model Moments</th>\n",
       "    </tr>\n",
       "  </thead>\n",
       "  <tbody>\n",
       "    <tr>\n",
       "      <th>&lt; $75,000</th>\n",
       "      <td>0.3</td>\n",
       "      <td>0.3</td>\n",
       "    </tr>\n",
       "    <tr>\n",
       "      <th>\\$75,000 - \\$100,000</th>\n",
       "      <td>0.5</td>\n",
       "      <td>0.5</td>\n",
       "    </tr>\n",
       "    <tr>\n",
       "      <th>&gt;= $100,000</th>\n",
       "      <td>0.2</td>\n",
       "      <td>0.2</td>\n",
       "    </tr>\n",
       "  </tbody>\n",
       "</table>\n",
       "</div>"
      ],
      "text/plain": [
       "                      Data Moments  Model Moments\n",
       "< $75,000                      0.3            0.3\n",
       "\\$75,000 - \\$100,000           0.5            0.5\n",
       ">= $100,000                    0.2            0.2"
      ]
     },
     "execution_count": 15,
     "metadata": {},
     "output_type": "execute_result"
    }
   ],
   "source": [
    "bpct_1_dat, bpct_2_dat, bpct_3_dat = data_moments3(inc['Income'])\n",
    "bpct_1_mod, bpct_2_mod, bpct_3_mod = model_moments3(mu_GMM_3, sig_GMM_3, 0.0, 150000.0)\n",
    "data_mm = [bpct_1_dat, bpct_2_dat, bpct_3_dat]\n",
    "model_mm = [bpct_1_mod, bpct_2_mod, bpct_3_mod]\n",
    "ind = ['< $75,000','\\$75,000 - \\$100,000','>= $100,000']\n",
    "data = {'Data Moments':data_mm, 'Model Moments': model_mm}\n",
    "pd.DataFrame(data, index = ind)"
   ]
  },
  {
   "cell_type": "code",
   "execution_count": 16,
   "metadata": {},
   "outputs": [
    {
     "data": {
      "image/png": "[encoded data removed]",
      "text/plain": [
       "<matplotlib.figure.Figure at 0x1a1b271c88>"
      ]
     },
     "metadata": {},
     "output_type": "display_data"
    }
   ],
   "source": [
    "# Plot the histogram of the data\n",
    "num_bins = 30\n",
    "count, bins, ignored = plt.hist(inc['Income'], num_bins, density=True,\n",
    "                                edgecolor='k')\n",
    "plt.title('Annual Income of Uchicago MACSS 2018-2020 graduates', fontsize=20)\n",
    "plt.xlabel(r'Annual Income')\n",
    "plt.ylabel(r'Percentage')\n",
    "plt.xlim([1, 150000])  # This gives the xmin and xmax to be plotted\"\n",
    "\n",
    "# Plot the estimated GMM PDF\n",
    "plt.plot(dist_pts, trunc_lognorm_pdf(dist_pts, mu_GMM_3, sig_GMM_3, 0.0, 150000),\n",
    "         linewidth=2, color='g', label='3: $\\mu_{GMM3}$,$\\sigma_{GMM3}$')\n",
    "\n",
    "plt.legend(loc='upper left')\n",
    "plt.show()"
   ]
  },
  {
   "cell_type": "markdown",
   "metadata": {},
   "source": [
    "### (e)"
   ]
  },
  {
   "cell_type": "code",
   "execution_count": 17,
   "metadata": {},
   "outputs": [],
   "source": [
    "def get_Err_mat3(pts, mu, sigma, cut_lb, cut_ub, simple=False):\n",
    "    \n",
    "    R = 3\n",
    "    N = len(pts)\n",
    "    Err_mat = np.zeros((R, N))\n",
    "    pct_1_mod, pct_2_mod, pct_3_mod = \\\n",
    "        model_moments3(mu, sigma, cut_lb, cut_ub)\n",
    "    if simple:\n",
    "        pts_in_grp1 = pts < 75000\n",
    "        Err_mat[0, :] = pts_in_grp1 - pct_1_mod\n",
    "        pts_in_grp2 = (pts >= 75000) & (pts < 100000)\n",
    "        Err_mat[1, :] = pts_in_grp2 - pct_2_mod\n",
    "        pts_in_grp3 = pts >= 100000\n",
    "        Err_mat[2, :] = pts_in_grp3 - pct_3_mod\n",
    "\n",
    "    else:\n",
    "        pts_in_grp1 = pts < 75000\n",
    "        Err_mat[0, :] = (pts_in_grp1 - pct_1_mod) / pct_1_mod\n",
    "        pts_in_grp2 = (pts >= 75000) & (pts < 100000)\n",
    "        Err_mat[1, :] = (pts_in_grp2 - pct_2_mod) / pct_2_mod\n",
    "        pts_in_grp3 = pts >= 100000\n",
    "        Err_mat[2, :] = (pts_in_grp3 - pct_3_mod) / pct_3_mod\n",
    "    \n",
    "    return Err_mat"
   ]
  },
  {
   "cell_type": "code",
   "execution_count": 18,
   "metadata": {},
   "outputs": [
    {
     "name": "stdout",
     "output_type": "stream",
     "text": [
      "VCV2_3:\n",
      " [[ 2.33333258 -0.99999991 -0.9999999 ]\n",
      " [-0.99999991  1.00000014 -1.00000013]\n",
      " [-0.9999999  -1.00000013  4.0000005 ]]\n",
      "W_hat2_3:\n",
      " [[ 0.25761775 -0.14958453 -0.01246539]\n",
      " [-0.14958453  0.11911361 -0.07340718]\n",
      " [-0.01246539 -0.07340718  0.20221604]]\n"
     ]
    }
   ],
   "source": [
    "Err_mat3 = get_Err_mat3(inc['Income'], mu_GMM_3, sig_GMM_3, 0.0, 150000.0, False)\n",
    "VCV2_3 = (1 / inc['Income'].shape[0]) * (Err_mat3 @ Err_mat3.T)\n",
    "print('VCV2_3:\\n', VCV2_3)\n",
    "W_hat2_3 = lin.pinv(VCV2_3)\n",
    "print('W_hat2_3:\\n', W_hat2_3)"
   ]
  },
  {
   "cell_type": "code",
   "execution_count": 19,
   "metadata": {},
   "outputs": [
    {
     "name": "stdout",
     "output_type": "stream",
     "text": [
      "mu_GMM2_3 = 11.336705114244221  sig_GMM2_3 = 0.21151358770054526\n",
      "Error vector: [ 5.84568507e-07 -3.06908001e-07 -1.09582757e-07]\n",
      "The value of GMM criterion function: 1.5201407065364736e-13\n"
     ]
    }
   ],
   "source": [
    "gmm_args = (inc['Income'], 0.0, 150000.0, W_hat2_3)\n",
    "results2_3 = opt.minimize(criterion3, params_init, args=(gmm_args),\n",
    "                          method='L-BFGS-B', bounds=((None, None), (1e-10, None)))\n",
    "mu_GMM2_3, sig_GMM2_3 = results2_3.x\n",
    "print('mu_GMM2_3 =', mu_GMM2_3, ' sig_GMM2_3 =', sig_GMM2_3)\n",
    "err2_3 = err_vec3(inc['Income'], mu_GMM2_3, sig_GMM2_3, 0.0, 150000.0, False).reshape(3,)\n",
    "print('Error vector:', err2_3)\n",
    "print('The value of GMM criterion function:',results2_3.fun[0,0])\n"
   ]
  },
  {
   "cell_type": "code",
   "execution_count": 20,
   "metadata": {},
   "outputs": [
    {
     "data": {
      "text/html": [
       "<div>\n",
       "<style scoped>\n",
       "    .dataframe tbody tr th:only-of-type {\n",
       "        vertical-align: middle;\n",
       "    }\n",
       "\n",
       "    .dataframe tbody tr th {\n",
       "        vertical-align: top;\n",
       "    }\n",
       "\n",
       "    .dataframe thead th {\n",
       "        text-align: right;\n",
       "    }\n",
       "</style>\n",
       "<table border=\"1\" class=\"dataframe\">\n",
       "  <thead>\n",
       "    <tr style=\"text-align: right;\">\n",
       "      <th></th>\n",
       "      <th>Data Moments</th>\n",
       "      <th>Model Moments</th>\n",
       "    </tr>\n",
       "  </thead>\n",
       "  <tbody>\n",
       "    <tr>\n",
       "      <th>&lt; $75,000</th>\n",
       "      <td>0.3</td>\n",
       "      <td>0.3</td>\n",
       "    </tr>\n",
       "    <tr>\n",
       "      <th>\\$75,000 - \\$100,000</th>\n",
       "      <td>0.5</td>\n",
       "      <td>0.5</td>\n",
       "    </tr>\n",
       "    <tr>\n",
       "      <th>&gt;= $100,000</th>\n",
       "      <td>0.2</td>\n",
       "      <td>0.2</td>\n",
       "    </tr>\n",
       "  </tbody>\n",
       "</table>\n",
       "</div>"
      ],
      "text/plain": [
       "                      Data Moments  Model Moments\n",
       "< $75,000                      0.3            0.3\n",
       "\\$75,000 - \\$100,000           0.5            0.5\n",
       ">= $100,000                    0.2            0.2"
      ]
     },
     "execution_count": 20,
     "metadata": {},
     "output_type": "execute_result"
    }
   ],
   "source": [
    "bpct_1_mod, bpct_2_mod, bpct_3_mod = model_moments3(mu_GMM2_3, sig_GMM2_3, 0.0, 150000.0)\n",
    "model_mm = [bpct_1_mod, bpct_2_mod, bpct_3_mod]\n",
    "ind = ['< $75,000','\\$75,000 - \\$100,000','>= $100,000']\n",
    "data = {'Data Moments':data_mm, 'Model Moments': model_mm}\n",
    "pd.DataFrame(data, index = ind)"
   ]
  },
  {
   "cell_type": "code",
   "execution_count": 21,
   "metadata": {},
   "outputs": [
    {
     "data": {
      "image/png": "[encoded data removed]",
      "text/plain": [
       "<matplotlib.figure.Figure at 0x1a1a6a4c18>"
      ]
     },
     "metadata": {},
     "output_type": "display_data"
    }
   ],
   "source": [
    "# Plot the histogram of the data\n",
    "num_bins = 30\n",
    "count, bins, ignored = plt.hist(inc['Income'], num_bins, density=True,\n",
    "                                edgecolor='k')\n",
    "plt.title('Annual Income of Uchicago MACSS 2018-2020 graduates', fontsize=20)\n",
    "plt.xlabel(r'Annual Income')\n",
    "plt.ylabel(r'Percentage')\n",
    "plt.xlim([1, 150000])  # This gives the xmin and xmax to be plotted\"\n",
    "\n",
    "# Plot the estimated GMM PDF\n",
    "plt.plot(dist_pts, trunc_lognorm_pdf(dist_pts, mu_GMM_3, sig_GMM_3, 0.0, 150000),\n",
    "         linewidth=2, color='g', label='3: $\\mu_{GMM3}$,$\\sigma_{GMM3}$')\n",
    "\n",
    "plt.plot(dist_pts, trunc_lognorm_pdf(dist_pts, mu_GMM2_3, sig_GMM2_3, 0.0, 150000),\n",
    "         linewidth=2, color='b', label='4: $\\mu_{GMM2_3}$,$\\sigma_{GMM2_3}$')\n",
    "plt.legend(loc='upper left')\n",
    "plt.show()"
   ]
  },
  {
   "cell_type": "markdown",
   "metadata": {},
   "source": [
    "### (f)"
   ]
  },
  {
   "cell_type": "code",
   "execution_count": 22,
   "metadata": {},
   "outputs": [
    {
     "data": {
      "text/html": [
       "<div>\n",
       "<style scoped>\n",
       "    .dataframe tbody tr th:only-of-type {\n",
       "        vertical-align: middle;\n",
       "    }\n",
       "\n",
       "    .dataframe tbody tr th {\n",
       "        vertical-align: top;\n",
       "    }\n",
       "\n",
       "    .dataframe thead th {\n",
       "        text-align: right;\n",
       "    }\n",
       "</style>\n",
       "<table border=\"1\" class=\"dataframe\">\n",
       "  <thead>\n",
       "    <tr style=\"text-align: right;\">\n",
       "      <th></th>\n",
       "      <th>$\\mu$</th>\n",
       "      <th>$\\sigma$</th>\n",
       "      <th>GMM Value</th>\n",
       "    </tr>\n",
       "  </thead>\n",
       "  <tbody>\n",
       "    <tr>\n",
       "      <th>0</th>\n",
       "      <td>11.333533</td>\n",
       "      <td>0.213862</td>\n",
       "      <td>6.357621e-16</td>\n",
       "    </tr>\n",
       "    <tr>\n",
       "      <th>1</th>\n",
       "      <td>11.333533</td>\n",
       "      <td>0.213862</td>\n",
       "      <td>4.279415e-16</td>\n",
       "    </tr>\n",
       "    <tr>\n",
       "      <th>2</th>\n",
       "      <td>11.336705</td>\n",
       "      <td>0.211514</td>\n",
       "      <td>3.516066e-14</td>\n",
       "    </tr>\n",
       "    <tr>\n",
       "      <th>3</th>\n",
       "      <td>11.336705</td>\n",
       "      <td>0.211514</td>\n",
       "      <td>1.520141e-13</td>\n",
       "    </tr>\n",
       "  </tbody>\n",
       "</table>\n",
       "</div>"
      ],
      "text/plain": [
       "       $\\mu$  $\\sigma$     GMM Value\n",
       "0  11.333533  0.213862  6.357621e-16\n",
       "1  11.333533  0.213862  4.279415e-16\n",
       "2  11.336705  0.211514  3.516066e-14\n",
       "3  11.336705  0.211514  1.520141e-13"
      ]
     },
     "execution_count": 22,
     "metadata": {},
     "output_type": "execute_result"
    }
   ],
   "source": [
    "mu = [mu_GMM1, mu_GMM2, mu_GMM_3, mu_GMM2_3]\n",
    "sigma = [sig_GMM1, sig_GMM2, sig_GMM_3, sig_GMM2_3]\n",
    "gmm = [results.fun[0,0], results_2.fun[0,0], results_3.fun[0,0], results2_3.fun[0,0]]\n",
    "data_2 = {'$\\mu$':mu, '$\\sigma$':sigma, 'GMM Value':gmm}\n",
    "pd.DataFrame(data_2)\n"
   ]
  },
  {
   "cell_type": "markdown",
   "metadata": {},
   "source": [
    "The second model (i.e. the model with the two moments weighted matrix) fits the data best, because it has the lowest value of GMM criterion function."
   ]
  },
  {
   "cell_type": "markdown",
   "metadata": {},
   "source": [
    "## Question 2"
   ]
  },
  {
   "cell_type": "markdown",
   "metadata": {},
   "source": [
    "### (a)"
   ]
  },
  {
   "cell_type": "code",
   "execution_count": 23,
   "metadata": {},
   "outputs": [],
   "source": [
    "def err(sick, b0, b1, b2, b3):\n",
    "    y_hat = b0 + b1 * sick['age'] + b2 * sick['children'] + b3 * sick['avgtemp_winter']\n",
    "    e = y_hat - sick['sick']\n",
    "    e = np.array(e)\n",
    "    return e\n",
    "\n",
    "def crit_err(params, *args):\n",
    "    b0, b1, b2, b3 = params\n",
    "    sick, W = args\n",
    "    e = err(sick, b0, b1, b2, b3)\n",
    "    crit_val = e.T @ W @ e\n",
    "    \n",
    "    return crit_val"
   ]
  },
  {
   "cell_type": "code",
   "execution_count": 24,
   "metadata": {},
   "outputs": [],
   "source": [
    "sick = pd.read_csv('data/sick.txt')\n",
    "params_init = np.array([0.0, 0.0, 0.0, 0.0])\n",
    "W = np.eye(sick.shape[0])\n",
    "gmm_args = (sick, W)\n",
    "results_sick = opt.minimize(crit_err, params_init, args=(gmm_args), tol=1e-14, method='L-BFGS-B')\n",
    "b0 = results_sick.x[0]\n",
    "b1 = results_sick.x[1]\n",
    "b2 = results_sick.x[2]\n",
    "b3 = results_sick.x[3]"
   ]
  },
  {
   "cell_type": "code",
   "execution_count": 25,
   "metadata": {},
   "outputs": [
    {
     "name": "stdout",
     "output_type": "stream",
     "text": [
      "Beta 0 estimation = 0.2516447084200011\n",
      "Beta 1 estimation = 0.012933458362211967\n",
      "Beta 2 estimation = 0.4005011088429919\n",
      "Beta 3 estimation = -0.009991699339527243\n",
      "Value of GMM criterion function = 0.0018212898068018697\n"
     ]
    }
   ],
   "source": [
    "print('Beta 0 estimation =', b0)\n",
    "print('Beta 1 estimation =', b1)\n",
    "print('Beta 2 estimation =', b2)\n",
    "print('Beta 3 estimation =', b3)\n",
    "print('Value of GMM criterion function =', results_sick.fun)"
   ]
  },
  {
   "cell_type": "code",
   "execution_count": null,
   "metadata": {},
   "outputs": [],
   "source": []
  }
 ],
 "metadata": {
  "kernelspec": {
   "display_name": "Python 3",
   "language": "python",
   "name": "python3"
  },
  "language_info": {
   "codemirror_mode": {
    "name": "ipython",
    "version": 3
   },
   "file_extension": ".py",
   "mimetype": "text/x-python",
   "name": "python",
   "nbconvert_exporter": "python",
   "pygments_lexer": "ipython3",
   "version": "3.6.4"
  }
 },
 "nbformat": 4,
 "nbformat_minor": 2
}
