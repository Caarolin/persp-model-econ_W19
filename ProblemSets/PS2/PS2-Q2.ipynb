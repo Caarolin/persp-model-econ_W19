{
 "cells": [
  {
   "cell_type": "markdown",
   "metadata": {},
   "source": [
    "**Exercise 2.1.** You can verify that the analytical solution to the integral of the function\n",
    "\\begin{equation*}\n",
    "  g(x)=0.1x^4 -1.5x^3 + 0.53x^2 + 2x + 1\n",
    "\\end{equation*}\n",
    "between $x=-10$ and $x=10$ is $\\int_{-10}^{10} g(x)dx = 4,373.3\\bar{3}$. Write a Python function that will take as arguments an anonymous function that the user specifies representing $g(x)$, integration bounds $a$ and $b$, the number of intervals $N$, and\n",
    "```python\n",
    "method = {'midpoint', 'trapezoid', 'Simpsons'}\n",
    "```\n",
    "Using the composite methods, evaluate the numerical approximations of the integral $\\int_a^b g(x)dx$ using all three Newton-Cotes methods in your function and compare the difference between the values of these integrals to the true analytical value of the integral."
   ]
  },
  {
   "cell_type": "code",
   "execution_count": 1,
   "metadata": {},
   "outputs": [],
   "source": [
    "import numpy as np\n",
    "def g_x_1(x):\n",
    "    g = 0.1 * (x ** 4) - 1.5 * (x ** 3) + 0.53 * (x ** 2) + 2 * x + 1\n",
    "    return g\n",
    "\n",
    "def integr_g_x_1(g_x_1, a, b, N, method = 'midpoint'):\n",
    "    # calculate vector of N + 1 bar bounds\n",
    "    bin_cuts = np.linspace(a, b, N + 1)\n",
    "    \n",
    "    if method == 'midpoint':\n",
    "        # calculate vector of midpoints\n",
    "        mids = (bin_cuts[1:] + bin_cuts[:-1]) / 2\n",
    "        \n",
    "        # evaluate function at the midpoint\n",
    "        width = (b - a) / N\n",
    "        heights = sum(g_x_1(mids))\n",
    "    \n",
    "    elif method == 'trapezoid':\n",
    "        width = (b - a) / (2 * N)\n",
    "        heights = g_x_1(bin_cuts[0]) + g_x_1(bin_cuts[-1]) + 2 * sum(g_x_1(bin_cuts[1:-1]))\n",
    "    \n",
    "    elif method == 'Simpsons':\n",
    "        bin_cuts = np.linspace(a, b, 2 * N + 1)\n",
    "        width = (b - a) / (6 * N)\n",
    "        heights = g_x_1(bin_cuts[0]) + 4 * sum(g_x_1(bin_cuts[1:-1][::2])) + 2 * sum(g_x_1(bin_cuts[1:-1][1::2])) + g_x_1(bin_cuts[-1])\n",
    "            \n",
    "    # Add up the area of all the bars\n",
    "    approx_integr = heights * width\n",
    "    \n",
    "    return approx_integr"
   ]
  },
  {
   "cell_type": "code",
   "execution_count": 8,
   "metadata": {},
   "outputs": [
    {
     "name": "stdout",
     "output_type": "stream",
     "text": [
      "Midpoint's rule: 4372.991172499997 \n",
      " Absolute error: 0.3421608333358866\n",
      "\n",
      "Trapezoid's rule: 4374.01766 \n",
      " Absolute error: 0.6843266666670995\n",
      "\n",
      "Simpson's rule: 4373.333334999998 \n",
      " Absolute error: 1.666665108757126e-06\n"
     ]
    }
   ],
   "source": [
    "mid = integr_g_x_1(g_x_1, -10, 10, 200, 'midpoint')\n",
    "trap = integr_g_x_1(g_x_1, -10, 10, 200, 'trapezoid')\n",
    "simp = integr_g_x_1(g_x_1, -10, 10, 200, 'Simpsons')\n",
    "print(\"Midpoint's rule:\", mid, '\\n Absolute error:', abs(mid - 4373 - 1/3))\n",
    "print(\"\\nTrapezoid's rule:\", trap, '\\n Absolute error:', abs(trap - 4373 - 1/3))\n",
    "print(\"\\nSimpson's rule:\", simp, '\\n Absolute error:', abs(simp - 4373 - 1/3))"
   ]
  },
  {
   "cell_type": "code",
   "execution_count": null,
   "metadata": {},
   "outputs": [],
   "source": []
  },
  {
   "cell_type": "markdown",
   "metadata": {},
   "source": [
    "**Exercise 2.2.** Write a Python function that makes a Newton-Cotes discrete approximation of the distribution of the normally distributed variable $Z \\sim N(\\mu,\\sigma)$. Let this function take as arguments the mean $\\mu$, the standard deviation $\\sigma$, the number of equally spaced nodes $N$ to estimate the distribution, and the number of standard deviations $k$ away from $\\mu$ to make the furthest nodes on either side of $\\mu$. Use the [`scipy.stats.norm.cdf`](http://docs.scipy.org/doc/scipy/reference/generated/scipy.stats.norm.html#scipy.stats.norm) command for the cdf of the normal distribution to compute the weights $\\omega_n$ for the nodes $x_n$. Have this function return a vector of nodes of $[Z_1,Z_2,...Z_N]$ and a vector of weights $[\\omega_1,\\omega_2,...\\omega_N]$ such that $\\omega_i$ is given by the integral under the normal distribution between the midpoints of the two closest nodes. Define $f(Z;\\mu,\\sigma)$ as the pdf of the normal distribution and $F(Z;\\mu,\\sigma)$ as the cdf.\n",
    "\\begin{equation*}\n",
    "  \\begin{split}\n",
    "    &\\omega_i =\n",
    "      \\begin{cases}\n",
    "        F\\left(\\frac{Z_1 + Z_2}{2};\\mu,\\sigma\\right) \\quad\\quad\\quad\\quad\\:\\text{if}\\quad i = 1 \\\\\n",
    "        \\int_{Z_{min}}^{Z_{max}}f(Z;\\mu,\\sigma)dZ \\quad\\quad\\:\\:\\text{if}\\quad 1<i<N \\\\\n",
    "        1 - F\\left(\\frac{Z_{N-1} + Z_{N}}{2};\\mu,\\sigma\\right) \\quad\\text{if}\\quad i = N\n",
    "      \\end{cases} \\\\\n",
    "    &\\text{where}\\quad Z_{min} = \\frac{Z_{i-1} + Z_{i}}{2} \\quad\\text{and}\\quad Z_{max} = \\frac{Z_{i} + Z_{i+1}}{2}\n",
    "  \\end{split}\n",
    "\\end{equation*}\n",
    "What are the weights and nodes $\\{\\omega_n,Z_n\\}_{n=1}^N$ for $N=11$?"
   ]
  },
  {
   "cell_type": "code",
   "execution_count": 9,
   "metadata": {},
   "outputs": [],
   "source": [
    "import scipy.stats as sts\n",
    "import pandas as pd\n",
    "def approx_normal(mean, sd, k, N):\n",
    "    a = mean - sd * k\n",
    "    b = mean + sd * k\n",
    "    v_nodes = np.linspace(a, b, N)\n",
    "    mids = (v_nodes[1:] + v_nodes[:-1]) / 2\n",
    "    w1 = sts.norm.cdf(mids[0], mean, sd)\n",
    "    wi = sts.norm.cdf(mids, mean, sd)\n",
    "    wi = np.diff(wi).tolist()\n",
    "    wn = 1 - sts.norm.cdf(mids[-1], mean, sd)\n",
    "    v_weights = [w1] + wi + [wn]\n",
    "    v_nodes = v_nodes.tolist()\n",
    "    data = {'Nodes' : v_nodes, 'Weights' : v_weights}\n",
    "    df = pd.DataFrame(data)\n",
    "    return df"
   ]
  },
  {
   "cell_type": "code",
   "execution_count": 10,
   "metadata": {},
   "outputs": [
    {
     "data": {
      "text/html": [
       "<div>\n",
       "<style scoped>\n",
       "    .dataframe tbody tr th:only-of-type {\n",
       "        vertical-align: middle;\n",
       "    }\n",
       "\n",
       "    .dataframe tbody tr th {\n",
       "        vertical-align: top;\n",
       "    }\n",
       "\n",
       "    .dataframe thead th {\n",
       "        text-align: right;\n",
       "    }\n",
       "</style>\n",
       "<table border=\"1\" class=\"dataframe\">\n",
       "  <thead>\n",
       "    <tr style=\"text-align: right;\">\n",
       "      <th></th>\n",
       "      <th>Nodes</th>\n",
       "      <th>Weights</th>\n",
       "    </tr>\n",
       "  </thead>\n",
       "  <tbody>\n",
       "    <tr>\n",
       "      <th>0</th>\n",
       "      <td>-3.0</td>\n",
       "      <td>0.003467</td>\n",
       "    </tr>\n",
       "    <tr>\n",
       "      <th>1</th>\n",
       "      <td>-2.4</td>\n",
       "      <td>0.014397</td>\n",
       "    </tr>\n",
       "    <tr>\n",
       "      <th>2</th>\n",
       "      <td>-1.8</td>\n",
       "      <td>0.048943</td>\n",
       "    </tr>\n",
       "    <tr>\n",
       "      <th>3</th>\n",
       "      <td>-1.2</td>\n",
       "      <td>0.117253</td>\n",
       "    </tr>\n",
       "    <tr>\n",
       "      <th>4</th>\n",
       "      <td>-0.6</td>\n",
       "      <td>0.198028</td>\n",
       "    </tr>\n",
       "    <tr>\n",
       "      <th>5</th>\n",
       "      <td>0.0</td>\n",
       "      <td>0.235823</td>\n",
       "    </tr>\n",
       "    <tr>\n",
       "      <th>6</th>\n",
       "      <td>0.6</td>\n",
       "      <td>0.198028</td>\n",
       "    </tr>\n",
       "    <tr>\n",
       "      <th>7</th>\n",
       "      <td>1.2</td>\n",
       "      <td>0.117253</td>\n",
       "    </tr>\n",
       "    <tr>\n",
       "      <th>8</th>\n",
       "      <td>1.8</td>\n",
       "      <td>0.048943</td>\n",
       "    </tr>\n",
       "    <tr>\n",
       "      <th>9</th>\n",
       "      <td>2.4</td>\n",
       "      <td>0.014397</td>\n",
       "    </tr>\n",
       "    <tr>\n",
       "      <th>10</th>\n",
       "      <td>3.0</td>\n",
       "      <td>0.003467</td>\n",
       "    </tr>\n",
       "  </tbody>\n",
       "</table>\n",
       "</div>"
      ],
      "text/plain": [
       "    Nodes   Weights\n",
       "0    -3.0  0.003467\n",
       "1    -2.4  0.014397\n",
       "2    -1.8  0.048943\n",
       "3    -1.2  0.117253\n",
       "4    -0.6  0.198028\n",
       "5     0.0  0.235823\n",
       "6     0.6  0.198028\n",
       "7     1.2  0.117253\n",
       "8     1.8  0.048943\n",
       "9     2.4  0.014397\n",
       "10    3.0  0.003467"
      ]
     },
     "execution_count": 10,
     "metadata": {},
     "output_type": "execute_result"
    }
   ],
   "source": [
    "approx_normal(0, 1, 3, 11)"
   ]
  },
  {
   "cell_type": "code",
   "execution_count": null,
   "metadata": {},
   "outputs": [],
   "source": []
  },
  {
   "cell_type": "markdown",
   "metadata": {},
   "source": [
    "**Exercise 2.3.** If $Z\\sim N(\\mu,\\sigma)$, then $A\\equiv e^Z\\sim LN(\\mu,\\sigma)$ is distributed lognormally and $\\log(A)\\sim N(\\mu,\\sigma)$. Use your knowledge that $A\\equiv e^Z$, $\\log(A)\\sim N(\\mu,\\sigma)$, and your function from Exercise 2.2 to write a function that gives a discrete approximation to the lognormal distribution. Note: You will not end up with evenly spaced nodes $[A_1,A_2,...A_N]$, but your weights should be the same as in Exercise 2.2."
   ]
  },
  {
   "cell_type": "code",
   "execution_count": 11,
   "metadata": {},
   "outputs": [],
   "source": [
    "def approx_lognorm(mean, sd, k, N):\n",
    "    a = mean - sd * k\n",
    "    b = mean + sd * k\n",
    "    v_nodes = np.linspace(a, b, N)\n",
    "    mids = (v_nodes[1:] + v_nodes[:-1]) / 2\n",
    "    w1 = sts.norm.cdf(mids[0], mean, sd)\n",
    "    wi = sts.norm.cdf(mids, mean, sd)\n",
    "    wi = np.diff(wi).tolist()\n",
    "    wn = 1 - sts.norm.cdf(mids[-1], mean, sd)\n",
    "    v_weights = [w1] + wi + [wn]\n",
    "    v_nodes = np.exp(v_nodes).tolist()\n",
    "    data = {'Nodes' : v_nodes, 'Weights' : v_weights}\n",
    "    df = pd.DataFrame(data)    \n",
    "    return df"
   ]
  },
  {
   "cell_type": "code",
   "execution_count": 12,
   "metadata": {},
   "outputs": [
    {
     "data": {
      "text/html": [
       "<div>\n",
       "<style scoped>\n",
       "    .dataframe tbody tr th:only-of-type {\n",
       "        vertical-align: middle;\n",
       "    }\n",
       "\n",
       "    .dataframe tbody tr th {\n",
       "        vertical-align: top;\n",
       "    }\n",
       "\n",
       "    .dataframe thead th {\n",
       "        text-align: right;\n",
       "    }\n",
       "</style>\n",
       "<table border=\"1\" class=\"dataframe\">\n",
       "  <thead>\n",
       "    <tr style=\"text-align: right;\">\n",
       "      <th></th>\n",
       "      <th>Nodes</th>\n",
       "      <th>Weights</th>\n",
       "    </tr>\n",
       "  </thead>\n",
       "  <tbody>\n",
       "    <tr>\n",
       "      <th>0</th>\n",
       "      <td>0.049787</td>\n",
       "      <td>0.003467</td>\n",
       "    </tr>\n",
       "    <tr>\n",
       "      <th>1</th>\n",
       "      <td>0.090718</td>\n",
       "      <td>0.014397</td>\n",
       "    </tr>\n",
       "    <tr>\n",
       "      <th>2</th>\n",
       "      <td>0.165299</td>\n",
       "      <td>0.048943</td>\n",
       "    </tr>\n",
       "    <tr>\n",
       "      <th>3</th>\n",
       "      <td>0.301194</td>\n",
       "      <td>0.117253</td>\n",
       "    </tr>\n",
       "    <tr>\n",
       "      <th>4</th>\n",
       "      <td>0.548812</td>\n",
       "      <td>0.198028</td>\n",
       "    </tr>\n",
       "    <tr>\n",
       "      <th>5</th>\n",
       "      <td>1.000000</td>\n",
       "      <td>0.235823</td>\n",
       "    </tr>\n",
       "    <tr>\n",
       "      <th>6</th>\n",
       "      <td>1.822119</td>\n",
       "      <td>0.198028</td>\n",
       "    </tr>\n",
       "    <tr>\n",
       "      <th>7</th>\n",
       "      <td>3.320117</td>\n",
       "      <td>0.117253</td>\n",
       "    </tr>\n",
       "    <tr>\n",
       "      <th>8</th>\n",
       "      <td>6.049647</td>\n",
       "      <td>0.048943</td>\n",
       "    </tr>\n",
       "    <tr>\n",
       "      <th>9</th>\n",
       "      <td>11.023176</td>\n",
       "      <td>0.014397</td>\n",
       "    </tr>\n",
       "    <tr>\n",
       "      <th>10</th>\n",
       "      <td>20.085537</td>\n",
       "      <td>0.003467</td>\n",
       "    </tr>\n",
       "  </tbody>\n",
       "</table>\n",
       "</div>"
      ],
      "text/plain": [
       "        Nodes   Weights\n",
       "0    0.049787  0.003467\n",
       "1    0.090718  0.014397\n",
       "2    0.165299  0.048943\n",
       "3    0.301194  0.117253\n",
       "4    0.548812  0.198028\n",
       "5    1.000000  0.235823\n",
       "6    1.822119  0.198028\n",
       "7    3.320117  0.117253\n",
       "8    6.049647  0.048943\n",
       "9   11.023176  0.014397\n",
       "10  20.085537  0.003467"
      ]
     },
     "execution_count": 12,
     "metadata": {},
     "output_type": "execute_result"
    }
   ],
   "source": [
    "approx_lognorm(0, 1, 3, 11)"
   ]
  },
  {
   "cell_type": "code",
   "execution_count": null,
   "metadata": {},
   "outputs": [],
   "source": []
  },
  {
   "cell_type": "markdown",
   "metadata": {},
   "source": [
    "**Exercise 2.4.** Let $Y_i$ represent the income of individual $i$ in the United States for all individuals $i$. Assume that income $Y_i$ is lognormally distributed in the U.S. according to $Y_i\\sim LN(\\mu,\\sigma)$, where the mean of log income is $\\mu = 10.5$ and the standard deviation of log income is $\\sigma = 0.8$. Use your function from Exercise 2.3 to compute an approximation of the expected value of income or average income in the U.S. How does your approximation compare to the exact expected value of $E[Y] = e^{\\mu + \\frac{\\sigma^2}{2}}$?"
   ]
  },
  {
   "cell_type": "code",
   "execution_count": 14,
   "metadata": {},
   "outputs": [
    {
     "name": "stdout",
     "output_type": "stream",
     "text": [
      "Approximated expected income: 49994.02934637943\n",
      "Absolute error: 17.05766214232426\n"
     ]
    }
   ],
   "source": [
    "df_lognorm = approx_lognorm(10.5, 0.8, 3, 20)\n",
    "exp_inc = sum(df_lognorm.Nodes * df_lognorm.Weights)\n",
    "abs_err = abs(exp_inc - np.exp(10.5 + (0.8**2)/2))\n",
    "print('Approximated expected income:', exp_inc)\n",
    "print('Absolute error:', abs_err)"
   ]
  },
  {
   "cell_type": "code",
   "execution_count": null,
   "metadata": {},
   "outputs": [],
   "source": []
  },
  {
   "cell_type": "markdown",
   "metadata": {},
   "source": [
    "**Exercise 3.1.** Approximate the integral of the function in Exercise 2.1 using Gaussian quadrature with $N=3$, $(\\omega_1,\\omega_2,\\omega_3,x_1,x_2,x_3)$. Use the class of polynomials $h_i(x)=x^i$. How does the accuracy of your approximated integral compare to the approximations from Exercise 2.1 and the true known value of the integral?"
   ]
  },
  {
   "cell_type": "code",
   "execution_count": 15,
   "metadata": {},
   "outputs": [],
   "source": [
    "from scipy import optimize\n",
    "def poly_h(x):\n",
    "    \n",
    "    return [x[0] + x[1] + x[2] - 2,\n",
    "           x[0] * x[3] + x[1] * x[4] + x[2] * x[5] - 0,\n",
    "           x[0] * x[3]**2 + x[1] * x[4]**2 + x[2] * x[5]**2 - 2/3,\n",
    "           x[0] * x[3]**3 + x[1] * x[4]**3 + x[2] * x[5]**3 - 0,\n",
    "           x[0] * x[3]**4 + x[1] * x[4]**4 + x[2] * x[5]**4 - 2/5,\n",
    "           x[0] * x[3]**5 + x[1] * x[4]**5 + x[2] * x[5]**5 - 0]"
   ]
  },
  {
   "cell_type": "code",
   "execution_count": 16,
   "metadata": {},
   "outputs": [
    {
     "name": "stdout",
     "output_type": "stream",
     "text": [
      "Gaussian approximation: 4373.333332841357\n",
      "Gaussian quadrature absolute error: 4.919760006605323e-07\n",
      "Gaussian has smaller absolute error than Newton-Cotes\n"
     ]
    }
   ],
   "source": [
    "sol = optimize.root(poly_h, [0, 0, 0, 0, 0, 0])\n",
    "x_vec = sol.x\n",
    "a = -10\n",
    "b = 10\n",
    "c = (b - a) / 2\n",
    "d = (b + a) / 2\n",
    "gaussian_approx = c * (x_vec[0] * g_x_1(c * x_vec[3] + d) + x_vec[1] * g_x_1(c * x_vec[4] + d) + x_vec[2] * g_x_1(c * x_vec[5] + d))\n",
    "gaussian_err = abs(gaussian_approx - 4373 - 1/3)\n",
    "print('Gaussian approximation:', gaussian_approx)\n",
    "print('Gaussian quadrature absolute error:', gaussian_err)\n",
    "print('Gaussian has smaller absolute error than Newton-Cotes')"
   ]
  },
  {
   "cell_type": "code",
   "execution_count": null,
   "metadata": {},
   "outputs": [],
   "source": []
  },
  {
   "cell_type": "markdown",
   "metadata": {},
   "source": [
    "**Exercise 3.2.** Use the Python Gaussian quadrature command [`scipy.integrate.quad`](http://docs.scipy.org/doc/scipy/reference/generated/scipy.integrate.quad.html#scipy.integrate.quad) to numerically approximate the integral from Exercise 2.1.\n",
    "\\begin{equation*}\n",
    "  \\int_{-10}^{10} g(x)dx \\quad\\text{where}\\quad g(x)=0.1x^4 -1.5x^3 + 0.53x^2 + 2x + 1\n",
    "\\end{equation*}\n",
    "How does the approximated integral using the [`scipy.integrate.quad`](http://docs.scipy.org/doc/scipy/reference/generated/scipy.integrate.quad.html#scipy.integrate.quad) command compare to the exact value of the function?"
   ]
  },
  {
   "cell_type": "code",
   "execution_count": 18,
   "metadata": {},
   "outputs": [
    {
     "name": "stdout",
     "output_type": "stream",
     "text": [
      "Approximation: 4373.333333333334\n",
      "Absolute error: 6.063483048990292e-13\n"
     ]
    }
   ],
   "source": [
    "from scipy import integrate\n",
    "quad_approx = integrate.quad(g_x_1, -10, 10)\n",
    "print('Approximation:', quad_approx[0])\n",
    "print('Absolute error:', abs(quad_approx[0] - 4373 - 1/3))"
   ]
  },
  {
   "cell_type": "code",
   "execution_count": null,
   "metadata": {},
   "outputs": [],
   "source": []
  },
  {
   "cell_type": "markdown",
   "metadata": {},
   "source": [
    "**Exercise 4.1.** Use Monte Carlo integration to approximate the value of $\\pi$. Define a function in that takes as arguments a function $g(\\mathbf{x})$ of a vector of variables $\\mathbf{x}$, the domain $\\Omega$ of $\\mathbf{x}$, and the number of random draws $N$ and returns the Monte Carlo approximation of the integral $\\int_\\Omega g(\\mathbf{x}) d\\mathbf{x}$. Let $\\Omega$ be a generalized rectangle--width $x$ and height $y$. In order to approximate $\\pi$, let the functional form of the anonymous function be $g(x,y)$ from Section 4.1 with domain $\\Omega = [-1,1]\\times[-1,1]$. What is the smallest number of random draws $N$ from $\\Omega$ that matches the true value of $\\pi$ to the 4th decimal 3.1415? Set the random seed in your uniform random number generator to 25. This will make the correct answer consistent across submissions."
   ]
  },
  {
   "cell_type": "code",
   "execution_count": 23,
   "metadata": {},
   "outputs": [],
   "source": [
    "def inside_circle(x, y):\n",
    "    if x ** 2 + y ** 2 <= 1:\n",
    "        return 1\n",
    "    else:\n",
    "        return 0"
   ]
  },
  {
   "cell_type": "code",
   "execution_count": 24,
   "metadata": {},
   "outputs": [
    {
     "name": "stdout",
     "output_type": "stream",
     "text": [
      "The smallest number of random draws: 834\n",
      "Circle area: 3.1414868105515588\n"
     ]
    }
   ],
   "source": [
    "np.random.seed = 25\n",
    "N = 1\n",
    "while N > 0:\n",
    "    mc_draws_x = np.random.uniform(-1, 1, N)\n",
    "    mc_draws_y = np.random.uniform(-1, 1, N)\n",
    "    fraction = list(map(inside_circle, mc_draws_x, mc_draws_y))\n",
    "    circle_area = 4 * np.mean(fraction)\n",
    "    if round(circle_area, 4) == 3.1415:\n",
    "        print('The smallest number of random draws:', N)\n",
    "        print('Circle area:', circle_area)\n",
    "        break\n",
    "    else:\n",
    "        N += 1"
   ]
  },
  {
   "cell_type": "code",
   "execution_count": null,
   "metadata": {},
   "outputs": [],
   "source": []
  },
  {
   "cell_type": "markdown",
   "metadata": {},
   "source": [
    "**Exercise 4.2.** Define a function in that returns the $n$-th element of a $d$-dimensional equidistributed sequence.  It should have support for the four sequences in the Table in Section 4.2."
   ]
  },
  {
   "cell_type": "code",
   "execution_count": 27,
   "metadata": {},
   "outputs": [],
   "source": [
    "def isPrime(n):\n",
    "    for i in range(2, int(np.sqrt(n) + 1)):\n",
    "        if n % i == 0:\n",
    "            return False\n",
    "\n",
    "    return True\n",
    "\n",
    "def primes_ascend(N, min_val=2):\n",
    "    \n",
    "    primes_vec = np.zeros(N, dtype=int)\n",
    "    MinIsEven = 1 - min_val % 2\n",
    "    MinIsGrtrThn2 = min_val > 2\n",
    "    curr_prime_ind = 0\n",
    "    if not MinIsGrtrThn2:\n",
    "        i = 2\n",
    "        curr_prime_ind += 1\n",
    "        primes_vec[0] = i\n",
    "    i = min(3, min_val + (MinIsEven * 1))\n",
    "    while curr_prime_ind < N:\n",
    "        if isPrime(i):\n",
    "            curr_prime_ind += 1\n",
    "            primes_vec[curr_prime_ind - 1] = i\n",
    "        i += 2\n",
    "\n",
    "    return primes_vec"
   ]
  },
  {
   "cell_type": "code",
   "execution_count": 28,
   "metadata": {},
   "outputs": [],
   "source": [
    "def equidistr_nth(n, d, seq_type):\n",
    "    prime_vec = primes_ascend(d)\n",
    "    if seq_type == 'Weyl':\n",
    "        seq = np.sqrt(prime_vec) * n\n",
    "        \n",
    "    elif seq_type == 'Haber':\n",
    "        seq = np.sqrt(prime_vec) * (n * (n + 1) / 2)\n",
    "    \n",
    "    elif seq_type == 'Niederreiter':\n",
    "        seq = [n * 2 ** (i / (n + 1)) for i in range(1, d+1)]\n",
    "        seq = np.array(seq)\n",
    "    \n",
    "    elif seq_type == 'Baker':\n",
    "        seq = n * np.exp(prime_vec)\n",
    "    \n",
    "    seq_n = seq - np.floor(seq)\n",
    "    return seq_n"
   ]
  },
  {
   "cell_type": "code",
   "execution_count": 29,
   "metadata": {},
   "outputs": [
    {
     "name": "stdout",
     "output_type": "stream",
     "text": [
      "The 5th element of a 3-dimentional Weyl sequence [0.07106781 0.66025404 0.18033989]\n",
      "The 5th element of a 3-dimentional Haber sequence [0.21320344 0.98076211 0.54101966]\n",
      "The 5th element of a 3-dimentional Niederreiter sequence [0.61231024 0.29960525 0.07106781]\n",
      "The 5th element of a 3-dimentional Baker sequence [0.94528049 0.42768462 0.06579551]\n"
     ]
    }
   ],
   "source": [
    "# test\n",
    "print('The 5th element of a 3-dimentional Weyl sequence', equidistr_nth(5, 3, 'Weyl'))\n",
    "print('The 5th element of a 3-dimentional Haber sequence', equidistr_nth(5, 3, 'Haber'))\n",
    "print('The 5th element of a 3-dimentional Niederreiter sequence', equidistr_nth(5, 3, 'Niederreiter'))\n",
    "print('The 5th element of a 3-dimentional Baker sequence', equidistr_nth(5, 3, 'Baker'))"
   ]
  },
  {
   "cell_type": "code",
   "execution_count": null,
   "metadata": {},
   "outputs": [],
   "source": []
  },
  {
   "cell_type": "markdown",
   "metadata": {},
   "source": [
    "**Exercise 4.3** Repeat Exercise 4.1 to approximate the value of $\\pi$, this time using quasi-Monte Carlo integration.  You will need to appropriately scale the equidistributed sequences. Compare the rates of convergence. What is the smallest number of random draws $N$ from $\\Omega$ for the quasi-Monte Carlo integration that matches the true value of $\\pi$ to the 4th decimal 3.1415?. Set the seed in your uniform random number generator to 25. This will make the correct answer consistent across submissions."
   ]
  },
  {
   "cell_type": "code",
   "execution_count": 36,
   "metadata": {},
   "outputs": [],
   "source": [
    "def get_smallest_draw(seq_type):\n",
    "    np.random.seed = 25\n",
    "    N = 1\n",
    "    while N >= 0:\n",
    "        x_draws = [2 * equidistr_nth(i, 2, seq_type)[0] - 1 for i in range(N)]\n",
    "        y_draws = [2 * equidistr_nth(i, 2, seq_type)[1] - 1 for i in range(N)]\n",
    "        fraction = list(map(inside_circle, x_draws, y_draws))\n",
    "        circle_area = 4 * np.mean(fraction)\n",
    "        if round(circle_area, 4) == 3.1415:\n",
    "            print('Smallest number of draws for %s : %d' % (seq_type, N))\n",
    "            print('Circle area:', circle_area)\n",
    "            break\n",
    "        elif N > 5000:\n",
    "            print('%s not converging to 3.1415' % seq_type)\n",
    "            break\n",
    "        else:\n",
    "            N += 1"
   ]
  },
  {
   "cell_type": "code",
   "execution_count": 31,
   "metadata": {},
   "outputs": [
    {
     "name": "stdout",
     "output_type": "stream",
     "text": [
      "Smallest number of draws for Weyl : 1230\n",
      "Circle area: 3.1414634146341465\n"
     ]
    }
   ],
   "source": [
    "get_smallest_draw('Weyl')"
   ]
  },
  {
   "cell_type": "code",
   "execution_count": 32,
   "metadata": {},
   "outputs": [
    {
     "name": "stdout",
     "output_type": "stream",
     "text": [
      "Smallest number of draws for Haber : 2064\n",
      "Circle area: 3.141472868217054\n"
     ]
    }
   ],
   "source": [
    "get_smallest_draw('Haber')"
   ]
  },
  {
   "cell_type": "code",
   "execution_count": 37,
   "metadata": {},
   "outputs": [
    {
     "name": "stdout",
     "output_type": "stream",
     "text": [
      "Niederreiter not converging to 3.1415\n"
     ]
    }
   ],
   "source": [
    "get_smallest_draw('Niederreiter')"
   ]
  },
  {
   "cell_type": "code",
   "execution_count": 33,
   "metadata": {},
   "outputs": [
    {
     "name": "stdout",
     "output_type": "stream",
     "text": [
      "Smallest number of draws for Baker : 1272\n",
      "Circle area: 3.141509433962264\n"
     ]
    }
   ],
   "source": [
    "get_smallest_draw('Baker')"
   ]
  },
  {
   "cell_type": "code",
   "execution_count": null,
   "metadata": {},
   "outputs": [],
   "source": []
  }
 ],
 "metadata": {
  "kernelspec": {
   "display_name": "Python 3",
   "language": "python",
   "name": "python3"
  },
  "language_info": {
   "codemirror_mode": {
    "name": "ipython",
    "version": 3
   },
   "file_extension": ".py",
   "mimetype": "text/x-python",
   "name": "python",
   "nbconvert_exporter": "python",
   "pygments_lexer": "ipython3",
   "version": "3.6.4"
  }
 },
 "nbformat": 4,
 "nbformat_minor": 2
}
